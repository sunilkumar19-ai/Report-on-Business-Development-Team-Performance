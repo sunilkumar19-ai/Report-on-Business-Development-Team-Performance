{
 "cells": [
  {
   "cell_type": "code",
   "execution_count": 56,
   "id": "65631d47-c6ca-412f-a537-a46d86c8f282",
   "metadata": {},
   "outputs": [],
   "source": [
    "import pandas as pd\n",
    "import numpy as np\n",
    "# reading the three datasets of Associates abc,xyz,klm\n",
    "df1=pd.read_csv(r'C:\\Users\\Admin\\Downloads\\global project\\associate-abc (1).csv',encoding='unicode_escape')\n",
    "df2=pd.read_csv(r'C:\\Users\\Admin\\Downloads\\global project\\associate-xyz (1).csv',encoding='unicode_escape')\n",
    "df3=pd.read_csv(r'C:\\Users\\Admin\\Downloads\\global project\\associate-klm (1).csv',encoding='unicode_escape')"
   ]
  },
  {
   "cell_type": "code",
   "execution_count": 57,
   "id": "0b793479-ded8-4b7e-b01f-7ccbffc79124",
   "metadata": {},
   "outputs": [
    {
     "data": {
      "text/html": [
       "<div>\n",
       "<style scoped>\n",
       "    .dataframe tbody tr th:only-of-type {\n",
       "        vertical-align: middle;\n",
       "    }\n",
       "\n",
       "    .dataframe tbody tr th {\n",
       "        vertical-align: top;\n",
       "    }\n",
       "\n",
       "    .dataframe thead th {\n",
       "        text-align: right;\n",
       "    }\n",
       "</style>\n",
       "<table border=\"1\" class=\"dataframe\">\n",
       "  <thead>\n",
       "    <tr style=\"text-align: right;\">\n",
       "      <th></th>\n",
       "      <th>Date</th>\n",
       "      <th>No of Leads</th>\n",
       "      <th>Time Spent on LG (in mins)</th>\n",
       "    </tr>\n",
       "  </thead>\n",
       "  <tbody>\n",
       "    <tr>\n",
       "      <th>0</th>\n",
       "      <td>9/1/2023</td>\n",
       "      <td>6.0</td>\n",
       "      <td>540.0</td>\n",
       "    </tr>\n",
       "    <tr>\n",
       "      <th>1</th>\n",
       "      <td>10/1/2023</td>\n",
       "      <td>9.0</td>\n",
       "      <td>540.0</td>\n",
       "    </tr>\n",
       "    <tr>\n",
       "      <th>2</th>\n",
       "      <td>11/1/2023</td>\n",
       "      <td>0.0</td>\n",
       "      <td>0.0</td>\n",
       "    </tr>\n",
       "    <tr>\n",
       "      <th>3</th>\n",
       "      <td>12/1/2023</td>\n",
       "      <td>11.0</td>\n",
       "      <td>540.0</td>\n",
       "    </tr>\n",
       "    <tr>\n",
       "      <th>4</th>\n",
       "      <td>13/1/2023</td>\n",
       "      <td>16.0</td>\n",
       "      <td>540.0</td>\n",
       "    </tr>\n",
       "    <tr>\n",
       "      <th>...</th>\n",
       "      <td>...</td>\n",
       "      <td>...</td>\n",
       "      <td>...</td>\n",
       "    </tr>\n",
       "    <tr>\n",
       "      <th>119</th>\n",
       "      <td>8/5/2023</td>\n",
       "      <td>10.0</td>\n",
       "      <td>420.0</td>\n",
       "    </tr>\n",
       "    <tr>\n",
       "      <th>120</th>\n",
       "      <td>9/5/2023</td>\n",
       "      <td>9.0</td>\n",
       "      <td>540.0</td>\n",
       "    </tr>\n",
       "    <tr>\n",
       "      <th>121</th>\n",
       "      <td>10/5/2023</td>\n",
       "      <td>8.0</td>\n",
       "      <td>360.0</td>\n",
       "    </tr>\n",
       "    <tr>\n",
       "      <th>122</th>\n",
       "      <td>11/5/2023</td>\n",
       "      <td>12.0</td>\n",
       "      <td>420.0</td>\n",
       "    </tr>\n",
       "    <tr>\n",
       "      <th>123</th>\n",
       "      <td>12/5/2023</td>\n",
       "      <td>11.0</td>\n",
       "      <td>300.0</td>\n",
       "    </tr>\n",
       "  </tbody>\n",
       "</table>\n",
       "<p>124 rows × 3 columns</p>\n",
       "</div>"
      ],
      "text/plain": [
       "          Date  No of Leads  Time Spent on LG (in mins)\n",
       "0     9/1/2023          6.0                       540.0\n",
       "1    10/1/2023          9.0                       540.0\n",
       "2    11/1/2023          0.0                         0.0\n",
       "3    12/1/2023         11.0                       540.0\n",
       "4    13/1/2023         16.0                       540.0\n",
       "..         ...          ...                         ...\n",
       "119   8/5/2023         10.0                       420.0\n",
       "120   9/5/2023          9.0                       540.0\n",
       "121  10/5/2023          8.0                       360.0\n",
       "122  11/5/2023         12.0                       420.0\n",
       "123  12/5/2023         11.0                       300.0\n",
       "\n",
       "[124 rows x 3 columns]"
      ]
     },
     "execution_count": 57,
     "metadata": {},
     "output_type": "execute_result"
    }
   ],
   "source": [
    "df1.fillna(0)\n",
    "df2.fillna(0)\n",
    "df3.fillna(0)"
   ]
  },
  {
   "cell_type": "code",
   "execution_count": null,
   "id": "091ccc0d-04da-482b-abee-cd3dbe8b83d9",
   "metadata": {},
   "outputs": [],
   "source": []
  },
  {
   "cell_type": "code",
   "execution_count": 58,
   "id": "2f23dea1-0b05-43fb-bbf6-0a21de41fd67",
   "metadata": {},
   "outputs": [],
   "source": [
    "#merging the 3 datasets for cleaning and formatting\n",
    "df = pd.concat([df1,df2,df3],axis=0,ignore_index= True)"
   ]
  },
  {
   "cell_type": "code",
   "execution_count": 59,
   "id": "575e9b18-d743-47b7-8b74-839179ffc4f1",
   "metadata": {},
   "outputs": [
    {
     "data": {
      "text/html": [
       "<div>\n",
       "<style scoped>\n",
       "    .dataframe tbody tr th:only-of-type {\n",
       "        vertical-align: middle;\n",
       "    }\n",
       "\n",
       "    .dataframe tbody tr th {\n",
       "        vertical-align: top;\n",
       "    }\n",
       "\n",
       "    .dataframe thead th {\n",
       "        text-align: right;\n",
       "    }\n",
       "</style>\n",
       "<table border=\"1\" class=\"dataframe\">\n",
       "  <thead>\n",
       "    <tr style=\"text-align: right;\">\n",
       "      <th></th>\n",
       "      <th>Date</th>\n",
       "      <th>No of Leads</th>\n",
       "      <th>Time Spent on LG (in mins)</th>\n",
       "    </tr>\n",
       "  </thead>\n",
       "  <tbody>\n",
       "    <tr>\n",
       "      <th>0</th>\n",
       "      <td>9/1/2023</td>\n",
       "      <td>2.0</td>\n",
       "      <td>300.0</td>\n",
       "    </tr>\n",
       "    <tr>\n",
       "      <th>1</th>\n",
       "      <td>10/1/2023</td>\n",
       "      <td>1.0</td>\n",
       "      <td>300.0</td>\n",
       "    </tr>\n",
       "    <tr>\n",
       "      <th>2</th>\n",
       "      <td>11/1/2023</td>\n",
       "      <td>5.0</td>\n",
       "      <td>300.0</td>\n",
       "    </tr>\n",
       "    <tr>\n",
       "      <th>3</th>\n",
       "      <td>12/1/2023</td>\n",
       "      <td>4.0</td>\n",
       "      <td>300.0</td>\n",
       "    </tr>\n",
       "    <tr>\n",
       "      <th>4</th>\n",
       "      <td>13/1/2023</td>\n",
       "      <td>5.0</td>\n",
       "      <td>300.0</td>\n",
       "    </tr>\n",
       "    <tr>\n",
       "      <th>...</th>\n",
       "      <td>...</td>\n",
       "      <td>...</td>\n",
       "      <td>...</td>\n",
       "    </tr>\n",
       "    <tr>\n",
       "      <th>263</th>\n",
       "      <td>8/5/2023</td>\n",
       "      <td>10.0</td>\n",
       "      <td>420.0</td>\n",
       "    </tr>\n",
       "    <tr>\n",
       "      <th>264</th>\n",
       "      <td>9/5/2023</td>\n",
       "      <td>9.0</td>\n",
       "      <td>540.0</td>\n",
       "    </tr>\n",
       "    <tr>\n",
       "      <th>265</th>\n",
       "      <td>10/5/2023</td>\n",
       "      <td>8.0</td>\n",
       "      <td>360.0</td>\n",
       "    </tr>\n",
       "    <tr>\n",
       "      <th>266</th>\n",
       "      <td>11/5/2023</td>\n",
       "      <td>12.0</td>\n",
       "      <td>420.0</td>\n",
       "    </tr>\n",
       "    <tr>\n",
       "      <th>267</th>\n",
       "      <td>12/5/2023</td>\n",
       "      <td>11.0</td>\n",
       "      <td>300.0</td>\n",
       "    </tr>\n",
       "  </tbody>\n",
       "</table>\n",
       "<p>268 rows × 3 columns</p>\n",
       "</div>"
      ],
      "text/plain": [
       "          Date  No of Leads  Time Spent on LG (in mins)\n",
       "0     9/1/2023          2.0                       300.0\n",
       "1    10/1/2023          1.0                       300.0\n",
       "2    11/1/2023          5.0                       300.0\n",
       "3    12/1/2023          4.0                       300.0\n",
       "4    13/1/2023          5.0                       300.0\n",
       "..         ...          ...                         ...\n",
       "263   8/5/2023         10.0                       420.0\n",
       "264   9/5/2023          9.0                       540.0\n",
       "265  10/5/2023          8.0                       360.0\n",
       "266  11/5/2023         12.0                       420.0\n",
       "267  12/5/2023         11.0                       300.0\n",
       "\n",
       "[268 rows x 3 columns]"
      ]
     },
     "execution_count": 59,
     "metadata": {},
     "output_type": "execute_result"
    }
   ],
   "source": [
    "df"
   ]
  },
  {
   "cell_type": "code",
   "execution_count": 60,
   "id": "3016cad3-4295-43a9-9c26-d6f482ea02b5",
   "metadata": {},
   "outputs": [
    {
     "data": {
      "text/plain": [
       "Date                           0\n",
       "No of Leads                   59\n",
       "Time Spent on LG (in mins)    72\n",
       "dtype: int64"
      ]
     },
     "execution_count": 60,
     "metadata": {},
     "output_type": "execute_result"
    }
   ],
   "source": [
    "df.isnull().sum()"
   ]
  },
  {
   "cell_type": "code",
   "execution_count": 61,
   "id": "ab10d5a0-76a5-474c-98ac-72552df028a8",
   "metadata": {},
   "outputs": [
    {
     "data": {
      "text/html": [
       "<div>\n",
       "<style scoped>\n",
       "    .dataframe tbody tr th:only-of-type {\n",
       "        vertical-align: middle;\n",
       "    }\n",
       "\n",
       "    .dataframe tbody tr th {\n",
       "        vertical-align: top;\n",
       "    }\n",
       "\n",
       "    .dataframe thead th {\n",
       "        text-align: right;\n",
       "    }\n",
       "</style>\n",
       "<table border=\"1\" class=\"dataframe\">\n",
       "  <thead>\n",
       "    <tr style=\"text-align: right;\">\n",
       "      <th></th>\n",
       "      <th>Date</th>\n",
       "      <th>No of Leads</th>\n",
       "      <th>Time Spent on LG (in mins)</th>\n",
       "    </tr>\n",
       "  </thead>\n",
       "  <tbody>\n",
       "    <tr>\n",
       "      <th>0</th>\n",
       "      <td>9/1/2023</td>\n",
       "      <td>2.0</td>\n",
       "      <td>300.0</td>\n",
       "    </tr>\n",
       "    <tr>\n",
       "      <th>1</th>\n",
       "      <td>10/1/2023</td>\n",
       "      <td>1.0</td>\n",
       "      <td>300.0</td>\n",
       "    </tr>\n",
       "    <tr>\n",
       "      <th>2</th>\n",
       "      <td>11/1/2023</td>\n",
       "      <td>5.0</td>\n",
       "      <td>300.0</td>\n",
       "    </tr>\n",
       "    <tr>\n",
       "      <th>3</th>\n",
       "      <td>12/1/2023</td>\n",
       "      <td>4.0</td>\n",
       "      <td>300.0</td>\n",
       "    </tr>\n",
       "    <tr>\n",
       "      <th>4</th>\n",
       "      <td>13/1/2023</td>\n",
       "      <td>5.0</td>\n",
       "      <td>300.0</td>\n",
       "    </tr>\n",
       "    <tr>\n",
       "      <th>...</th>\n",
       "      <td>...</td>\n",
       "      <td>...</td>\n",
       "      <td>...</td>\n",
       "    </tr>\n",
       "    <tr>\n",
       "      <th>263</th>\n",
       "      <td>8/5/2023</td>\n",
       "      <td>10.0</td>\n",
       "      <td>420.0</td>\n",
       "    </tr>\n",
       "    <tr>\n",
       "      <th>264</th>\n",
       "      <td>9/5/2023</td>\n",
       "      <td>9.0</td>\n",
       "      <td>540.0</td>\n",
       "    </tr>\n",
       "    <tr>\n",
       "      <th>265</th>\n",
       "      <td>10/5/2023</td>\n",
       "      <td>8.0</td>\n",
       "      <td>360.0</td>\n",
       "    </tr>\n",
       "    <tr>\n",
       "      <th>266</th>\n",
       "      <td>11/5/2023</td>\n",
       "      <td>12.0</td>\n",
       "      <td>420.0</td>\n",
       "    </tr>\n",
       "    <tr>\n",
       "      <th>267</th>\n",
       "      <td>12/5/2023</td>\n",
       "      <td>11.0</td>\n",
       "      <td>300.0</td>\n",
       "    </tr>\n",
       "  </tbody>\n",
       "</table>\n",
       "<p>268 rows × 3 columns</p>\n",
       "</div>"
      ],
      "text/plain": [
       "          Date  No of Leads  Time Spent on LG (in mins)\n",
       "0     9/1/2023          2.0                       300.0\n",
       "1    10/1/2023          1.0                       300.0\n",
       "2    11/1/2023          5.0                       300.0\n",
       "3    12/1/2023          4.0                       300.0\n",
       "4    13/1/2023          5.0                       300.0\n",
       "..         ...          ...                         ...\n",
       "263   8/5/2023         10.0                       420.0\n",
       "264   9/5/2023          9.0                       540.0\n",
       "265  10/5/2023          8.0                       360.0\n",
       "266  11/5/2023         12.0                       420.0\n",
       "267  12/5/2023         11.0                       300.0\n",
       "\n",
       "[268 rows x 3 columns]"
      ]
     },
     "execution_count": 61,
     "metadata": {},
     "output_type": "execute_result"
    }
   ],
   "source": [
    "df.fillna(0)"
   ]
  },
  {
   "cell_type": "code",
   "execution_count": 62,
   "id": "89bbb401-e0ec-4d72-8c1b-342b1c0a58b1",
   "metadata": {},
   "outputs": [
    {
     "data": {
      "text/plain": [
       "(268, 3)"
      ]
     },
     "execution_count": 62,
     "metadata": {},
     "output_type": "execute_result"
    }
   ],
   "source": [
    "df.shape"
   ]
  },
  {
   "cell_type": "code",
   "execution_count": 63,
   "id": "0fad529f-88a1-42f0-bb05-fc786350d544",
   "metadata": {},
   "outputs": [
    {
     "name": "stdout",
     "output_type": "stream",
     "text": [
      "<class 'pandas.core.frame.DataFrame'>\n",
      "RangeIndex: 268 entries, 0 to 267\n",
      "Data columns (total 3 columns):\n",
      " #   Column                      Non-Null Count  Dtype  \n",
      "---  ------                      --------------  -----  \n",
      " 0   Date                        268 non-null    object \n",
      " 1   No of Leads                 209 non-null    float64\n",
      " 2   Time Spent on LG (in mins)  196 non-null    float64\n",
      "dtypes: float64(2), object(1)\n",
      "memory usage: 6.4+ KB\n"
     ]
    }
   ],
   "source": [
    "df.info()"
   ]
  },
  {
   "cell_type": "code",
   "execution_count": 64,
   "id": "0a87a2d8-9aab-4932-867c-54e296e5842a",
   "metadata": {},
   "outputs": [
    {
     "data": {
      "text/html": [
       "<div>\n",
       "<style scoped>\n",
       "    .dataframe tbody tr th:only-of-type {\n",
       "        vertical-align: middle;\n",
       "    }\n",
       "\n",
       "    .dataframe tbody tr th {\n",
       "        vertical-align: top;\n",
       "    }\n",
       "\n",
       "    .dataframe thead th {\n",
       "        text-align: right;\n",
       "    }\n",
       "</style>\n",
       "<table border=\"1\" class=\"dataframe\">\n",
       "  <thead>\n",
       "    <tr style=\"text-align: right;\">\n",
       "      <th></th>\n",
       "      <th>Date</th>\n",
       "      <th>No of Leads</th>\n",
       "      <th>Time Spent on LG (in mins)</th>\n",
       "    </tr>\n",
       "  </thead>\n",
       "  <tbody>\n",
       "    <tr>\n",
       "      <th>0</th>\n",
       "      <td>False</td>\n",
       "      <td>False</td>\n",
       "      <td>False</td>\n",
       "    </tr>\n",
       "    <tr>\n",
       "      <th>1</th>\n",
       "      <td>False</td>\n",
       "      <td>False</td>\n",
       "      <td>False</td>\n",
       "    </tr>\n",
       "    <tr>\n",
       "      <th>2</th>\n",
       "      <td>False</td>\n",
       "      <td>False</td>\n",
       "      <td>False</td>\n",
       "    </tr>\n",
       "    <tr>\n",
       "      <th>3</th>\n",
       "      <td>False</td>\n",
       "      <td>False</td>\n",
       "      <td>False</td>\n",
       "    </tr>\n",
       "    <tr>\n",
       "      <th>4</th>\n",
       "      <td>False</td>\n",
       "      <td>False</td>\n",
       "      <td>False</td>\n",
       "    </tr>\n",
       "    <tr>\n",
       "      <th>...</th>\n",
       "      <td>...</td>\n",
       "      <td>...</td>\n",
       "      <td>...</td>\n",
       "    </tr>\n",
       "    <tr>\n",
       "      <th>263</th>\n",
       "      <td>False</td>\n",
       "      <td>False</td>\n",
       "      <td>False</td>\n",
       "    </tr>\n",
       "    <tr>\n",
       "      <th>264</th>\n",
       "      <td>False</td>\n",
       "      <td>False</td>\n",
       "      <td>False</td>\n",
       "    </tr>\n",
       "    <tr>\n",
       "      <th>265</th>\n",
       "      <td>False</td>\n",
       "      <td>False</td>\n",
       "      <td>False</td>\n",
       "    </tr>\n",
       "    <tr>\n",
       "      <th>266</th>\n",
       "      <td>False</td>\n",
       "      <td>False</td>\n",
       "      <td>False</td>\n",
       "    </tr>\n",
       "    <tr>\n",
       "      <th>267</th>\n",
       "      <td>False</td>\n",
       "      <td>False</td>\n",
       "      <td>False</td>\n",
       "    </tr>\n",
       "  </tbody>\n",
       "</table>\n",
       "<p>268 rows × 3 columns</p>\n",
       "</div>"
      ],
      "text/plain": [
       "      Date  No of Leads  Time Spent on LG (in mins)\n",
       "0    False        False                       False\n",
       "1    False        False                       False\n",
       "2    False        False                       False\n",
       "3    False        False                       False\n",
       "4    False        False                       False\n",
       "..     ...          ...                         ...\n",
       "263  False        False                       False\n",
       "264  False        False                       False\n",
       "265  False        False                       False\n",
       "266  False        False                       False\n",
       "267  False        False                       False\n",
       "\n",
       "[268 rows x 3 columns]"
      ]
     },
     "execution_count": 64,
     "metadata": {},
     "output_type": "execute_result"
    }
   ],
   "source": [
    "pd.isnull(df)"
   ]
  },
  {
   "cell_type": "code",
   "execution_count": 65,
   "id": "751f02c4-7abd-4633-9af8-c43fca574ed1",
   "metadata": {},
   "outputs": [
    {
     "data": {
      "text/plain": [
       "Date                           0\n",
       "No of Leads                   59\n",
       "Time Spent on LG (in mins)    72\n",
       "dtype: int64"
      ]
     },
     "execution_count": 65,
     "metadata": {},
     "output_type": "execute_result"
    }
   ],
   "source": [
    "pd.isnull(df).sum()"
   ]
  },
  {
   "cell_type": "code",
   "execution_count": 66,
   "id": "188349d0-2e4d-41c5-817f-3511077b35dc",
   "metadata": {},
   "outputs": [],
   "source": [
    "df.dropna(inplace=True)"
   ]
  },
  {
   "cell_type": "code",
   "execution_count": 67,
   "id": "d69c2ff8-8b5a-4fee-a93d-220e6b2f786d",
   "metadata": {},
   "outputs": [
    {
     "data": {
      "text/plain": [
       "(196, 3)"
      ]
     },
     "execution_count": 67,
     "metadata": {},
     "output_type": "execute_result"
    }
   ],
   "source": [
    "df.shape"
   ]
  },
  {
   "cell_type": "code",
   "execution_count": 68,
   "id": "4a012dfb-5225-40e6-9de0-eaeee045574c",
   "metadata": {},
   "outputs": [
    {
     "data": {
      "text/html": [
       "<div>\n",
       "<style scoped>\n",
       "    .dataframe tbody tr th:only-of-type {\n",
       "        vertical-align: middle;\n",
       "    }\n",
       "\n",
       "    .dataframe tbody tr th {\n",
       "        vertical-align: top;\n",
       "    }\n",
       "\n",
       "    .dataframe thead th {\n",
       "        text-align: right;\n",
       "    }\n",
       "</style>\n",
       "<table border=\"1\" class=\"dataframe\">\n",
       "  <thead>\n",
       "    <tr style=\"text-align: right;\">\n",
       "      <th></th>\n",
       "      <th>No of Leads</th>\n",
       "      <th>Time Spent on LG (in mins)</th>\n",
       "    </tr>\n",
       "  </thead>\n",
       "  <tbody>\n",
       "    <tr>\n",
       "      <th>count</th>\n",
       "      <td>196.000000</td>\n",
       "      <td>196.000000</td>\n",
       "    </tr>\n",
       "    <tr>\n",
       "      <th>mean</th>\n",
       "      <td>9.250000</td>\n",
       "      <td>375.969388</td>\n",
       "    </tr>\n",
       "    <tr>\n",
       "      <th>std</th>\n",
       "      <td>4.166256</td>\n",
       "      <td>100.074737</td>\n",
       "    </tr>\n",
       "    <tr>\n",
       "      <th>min</th>\n",
       "      <td>0.000000</td>\n",
       "      <td>0.000000</td>\n",
       "    </tr>\n",
       "    <tr>\n",
       "      <th>25%</th>\n",
       "      <td>6.000000</td>\n",
       "      <td>300.000000</td>\n",
       "    </tr>\n",
       "    <tr>\n",
       "      <th>50%</th>\n",
       "      <td>10.000000</td>\n",
       "      <td>360.000000</td>\n",
       "    </tr>\n",
       "    <tr>\n",
       "      <th>75%</th>\n",
       "      <td>12.250000</td>\n",
       "      <td>420.000000</td>\n",
       "    </tr>\n",
       "    <tr>\n",
       "      <th>max</th>\n",
       "      <td>23.000000</td>\n",
       "      <td>600.000000</td>\n",
       "    </tr>\n",
       "  </tbody>\n",
       "</table>\n",
       "</div>"
      ],
      "text/plain": [
       "       No of Leads  Time Spent on LG (in mins)\n",
       "count   196.000000                  196.000000\n",
       "mean      9.250000                  375.969388\n",
       "std       4.166256                  100.074737\n",
       "min       0.000000                    0.000000\n",
       "25%       6.000000                  300.000000\n",
       "50%      10.000000                  360.000000\n",
       "75%      12.250000                  420.000000\n",
       "max      23.000000                  600.000000"
      ]
     },
     "execution_count": 68,
     "metadata": {},
     "output_type": "execute_result"
    }
   ],
   "source": [
    "df.describe()"
   ]
  },
  {
   "cell_type": "code",
   "execution_count": 69,
   "id": "600d177d-53b9-49e2-817a-3a8444935e92",
   "metadata": {},
   "outputs": [
    {
     "data": {
      "text/plain": [
       "Date                           object\n",
       "No of Leads                   float64\n",
       "Time Spent on LG (in mins)    float64\n",
       "dtype: object"
      ]
     },
     "execution_count": 69,
     "metadata": {},
     "output_type": "execute_result"
    }
   ],
   "source": [
    "df.dtypes"
   ]
  },
  {
   "cell_type": "markdown",
   "id": "4d62435b-dd0f-4db6-914e-5c353beb4c0b",
   "metadata": {},
   "source": [
    "#outliers\n",
    "#using Zscore to find the ouliers in the datasets"
   ]
  },
  {
   "cell_type": "code",
   "execution_count": 70,
   "id": "b7752e75-9b9e-4022-88f7-4281b98d6a9d",
   "metadata": {},
   "outputs": [
    {
     "data": {
      "text/html": [
       "<div>\n",
       "<style scoped>\n",
       "    .dataframe tbody tr th:only-of-type {\n",
       "        vertical-align: middle;\n",
       "    }\n",
       "\n",
       "    .dataframe tbody tr th {\n",
       "        vertical-align: top;\n",
       "    }\n",
       "\n",
       "    .dataframe thead th {\n",
       "        text-align: right;\n",
       "    }\n",
       "</style>\n",
       "<table border=\"1\" class=\"dataframe\">\n",
       "  <thead>\n",
       "    <tr style=\"text-align: right;\">\n",
       "      <th></th>\n",
       "      <th>Date</th>\n",
       "      <th>No of Leads</th>\n",
       "      <th>Time Spent on LG (in mins)</th>\n",
       "    </tr>\n",
       "  </thead>\n",
       "  <tbody>\n",
       "    <tr>\n",
       "      <th>46</th>\n",
       "      <td>24/2/2023</td>\n",
       "      <td>1.0</td>\n",
       "      <td>60.0</td>\n",
       "    </tr>\n",
       "    <tr>\n",
       "      <th>53</th>\n",
       "      <td>3/3/2023</td>\n",
       "      <td>0.0</td>\n",
       "      <td>0.0</td>\n",
       "    </tr>\n",
       "    <tr>\n",
       "      <th>234</th>\n",
       "      <td>9/4/2023</td>\n",
       "      <td>23.0</td>\n",
       "      <td>200.0</td>\n",
       "    </tr>\n",
       "  </tbody>\n",
       "</table>\n",
       "</div>"
      ],
      "text/plain": [
       "          Date  No of Leads  Time Spent on LG (in mins)\n",
       "46   24/2/2023          1.0                        60.0\n",
       "53    3/3/2023          0.0                         0.0\n",
       "234   9/4/2023         23.0                       200.0"
      ]
     },
     "metadata": {},
     "output_type": "display_data"
    }
   ],
   "source": [
    "from scipy.stats import zscore\n",
    "# Calculate Z-Scores for numerical columns\n",
    "z_scores = zscore(df[['No of Leads', 'Time Spent on LG (in mins)']])\n",
    "# Define a threshold for Z-Score (e.g., 3 standard deviations)\n",
    "threshold = 3\n",
    "# Identify potential outliers and absolute values\n",
    "outliers = (abs(z_scores) > threshold).any(axis=1)\n",
    "# Display the potential outliers\n",
    "potential_outliers = df[outliers]\n",
    "display(potential_outliers)"
   ]
  },
  {
   "cell_type": "markdown",
   "id": "ff091a41-13e9-494e-aeff-da671f14bc51",
   "metadata": {},
   "source": [
    "# Data Exploration"
   ]
  },
  {
   "cell_type": "raw",
   "id": "62c8bfae-93a6-4d4d-96b7-9795886e20dd",
   "metadata": {},
   "source": [
    "  1.Average Leads Generated per day\n",
    "# find aveage leads generated per day for ABC,XYZ,KLM ASSOCIATES"
   ]
  },
  {
   "cell_type": "code",
   "execution_count": 71,
   "id": "2686035c-04d7-4894-9b24-75fc427b661d",
   "metadata": {},
   "outputs": [
    {
     "name": "stdout",
     "output_type": "stream",
     "text": [
      "ASSOCIATE ABC average lead generated per day:  6.541666666666667\n",
      "ASSOCIATE xyz average lead generated per day:  10.853658536585366\n",
      "ASSOCIATE klm average lead generated per day:  9.850467289719626\n"
     ]
    }
   ],
   "source": [
    "\n",
    "df1.dropna(inplace=True)\n",
    "df2.dropna(inplace=True)\n",
    "df3.dropna(inplace=True)\n",
    "\n",
    "# Calculate the average leads per day for 3 Associates\n",
    "average_leads_per_day_abc = df1['No of Leads'].mean()\n",
    "average_leads_per_day_xyz = df2['No of Leads'].mean()\n",
    "average_leads_per_day_klm = df3['No of Leads'].mean()\n",
    "print(\"ASSOCIATE ABC average lead generated per day: \",average_leads_per_day_abc)\n",
    "print(\"ASSOCIATE xyz average lead generated per day: \",average_leads_per_day_xyz)\n",
    "print(\"ASSOCIATE klm average lead generated per day: \",average_leads_per_day_klm)"
   ]
  },
  {
   "cell_type": "markdown",
   "id": "cd17d113-a76b-45f9-b76e-523cb06ae2dc",
   "metadata": {},
   "source": [
    "2.Average Time Spent per day"
   ]
  },
  {
   "cell_type": "code",
   "execution_count": 72,
   "id": "3aaf3a2f-1366-4fb0-bc26-00d99b3daeb6",
   "metadata": {},
   "outputs": [
    {
     "name": "stdout",
     "output_type": "stream",
     "text": [
      "ASSOCIATE abc average timespent per day:  346.875\n",
      "ASSOCIATE xyz average timespent per day:  387.0731707317073\n",
      "ASSOCIATE klm average timespent per day:  384.76635514018693\n"
     ]
    }
   ],
   "source": [
    "timespent_per_day_abc = df1['Time Spent on LG (in mins)']\n",
    "timespent_per_day_xyz = df2['Time Spent on LG (in mins)']\n",
    "timespent_per_day_klm = df3['Time Spent on LG (in mins)']\n",
    "# Calculate the average timespent per day\n",
    "average_timespent_per_day_abc = sum(timespent_per_day_abc) / len(timespent_per_day_abc)\n",
    "average_timespent_per_day_xyz = sum(timespent_per_day_xyz) / len(timespent_per_day_xyz)\n",
    "average_timespent_per_day_klm = sum(timespent_per_day_klm) / len(timespent_per_day_klm)\n",
    "print(\"ASSOCIATE abc average timespent per day: \",average_timespent_per_day_abc)\n",
    "print(\"ASSOCIATE xyz average timespent per day: \",average_timespent_per_day_xyz)\n",
    "print(\"ASSOCIATE klm average timespent per day: \",average_timespent_per_day_klm)"
   ]
  },
  {
   "cell_type": "markdown",
   "id": "92a7291c-afc0-4913-86de-fbf1a6fb03c7",
   "metadata": {},
   "source": [
    "3.conversation Rates"
   ]
  },
  {
   "cell_type": "code",
   "execution_count": 73,
   "id": "55d7c91c-5a96-40a2-bdca-49fead4a5778",
   "metadata": {},
   "outputs": [
    {
     "name": "stdout",
     "output_type": "stream",
     "text": [
      "abc Conversation Rates : 1.1315315315315315\n",
      "xyz Conversation Rates : 1.6824196597353498\n",
      "klm Conversation Rates : 1.5360699538498908\n"
     ]
    }
   ],
   "source": [
    "# Calculate the conversion rate (leads per hour) _ ASSOCIATE ABC\n",
    "total_leads_abc = df1['No of Leads'].sum()\n",
    "total_time_minutes_abc = df1['Time Spent on LG (in mins)'].sum()\n",
    "# Converting time from minutes to hours\n",
    "total_time_hours_abc = total_time_minutes_abc/ 60\n",
    "conversion_rate_abc = total_leads_abc / total_time_hours_abc\n",
    "print(\"abc Conversation Rates :\",conversion_rate_abc)\n",
    "\n",
    "# Calculate the conversion rate (leads per hour) _ ASSOCIATE xyz\n",
    "total_leads_xyz = df2['No of Leads'].sum()\n",
    "total_time_minutes_xyz = df2['Time Spent on LG (in mins)'].sum()\n",
    "# Converting time from minutes to hours\n",
    "total_time_hours_xyz = total_time_minutes_xyz/ 60\n",
    "conversion_rate_xyz = total_leads_xyz / total_time_hours_xyz\n",
    "print(\"xyz Conversation Rates :\",conversion_rate_xyz)\n",
    "\n",
    "# Calculate the conversion rate (leads per hour) _ ASSOCIATE KLM\n",
    "total_leads_klm = df3['No of Leads'].sum()\n",
    "total_time_minutes_klm = df3['Time Spent on LG (in mins)'].sum()\n",
    "# Converting time from minutes to hours\n",
    "total_time_hours_klm = total_time_minutes_klm/ 60\n",
    "conversion_rate_klm = total_leads_klm / total_time_hours_klm\n",
    "print(\"klm Conversation Rates :\",conversion_rate_klm)\n"
   ]
  },
  {
   "cell_type": "markdown",
   "id": "2495e283-2422-451f-8646-0b0554d0d49c",
   "metadata": {},
   "source": [
    "4.Total Leads Generated over the given time period."
   ]
  },
  {
   "cell_type": "code",
   "execution_count": 74,
   "id": "305c8a60-4608-45d6-a8d8-2dc53d1bf9f8",
   "metadata": {},
   "outputs": [
    {
     "name": "stdout",
     "output_type": "stream",
     "text": [
      "Total leads generated over the given time period by ABC: 314.0\n",
      "Total leads generated over the given time period by XYZ: 445.0\n",
      "Total leads generated over the given time period by KLM: 1054.0\n"
     ]
    }
   ],
   "source": [
    "total_leads_generated_abc = df1['No of Leads'].sum()\n",
    "print(\"Total leads generated over the given time period by ABC:\",total_leads_generated_abc)\n",
    "\n",
    "total_leads_generated_xyz = df2['No of Leads'].sum()\n",
    "print(\"Total leads generated over the given time period by XYZ:\",total_leads_generated_xyz)\n",
    "\n",
    "total_leads_generated_klm = df3['No of Leads'].sum()\n",
    "print(\"Total leads generated over the given time period by KLM:\",total_leads_generated_klm)"
   ]
  },
  {
   "cell_type": "markdown",
   "id": "7a6a4b58-756a-4bf9-88fc-62cc0e0ebd54",
   "metadata": {},
   "source": [
    "# Data Analysis and Visualization"
   ]
  },
  {
   "cell_type": "markdown",
   "id": "0f45f14a-77c1-4e5e-8daf-98d10405dcd9",
   "metadata": {},
   "source": [
    "# ASSOCIATE ABC"
   ]
  },
  {
   "cell_type": "code",
   "execution_count": 75,
   "id": "bea4316a-ad54-46dd-8af9-33b9449d0dcc",
   "metadata": {},
   "outputs": [
    {
     "data": {
      "image/png": "[encoded data removed]",
      "text/plain": [
       "<Figure size 1200x800 with 1 Axes>"
      ]
     },
     "metadata": {},
     "output_type": "display_data"
    }
   ],
   "source": [
    "import pandas as pd\n",
    "import matplotlib.pyplot as plt\n",
    "\n",
    "# Assuming you have a DataFrame 'df1' with columns 'Date', 'No of Leads', and 'Time Spent on LG (in mins)'\n",
    "# If the 'Date' column is not in datetime format, you can convert it using pd.to_datetime\n",
    "df1['Date'] = pd.to_datetime(df1['Date'], format='%d/%m/%Y')\n",
    "\n",
    "# Extracting month names from the 'Date' column\n",
    "df1['Month'] = df1['Date'].dt.strftime('%B')\n",
    "\n",
    "# Grouping data by month and calculating average performance metrics\n",
    "monthly_performance = df1.groupby('Month').agg({\n",
    "    'No of Leads': 'mean',\n",
    "    'Time Spent on LG (in mins)': 'mean'\n",
    "}).reset_index()\n",
    "\n",
    "# Plotting line chart\n",
    "plt.figure(figsize=(12, 8))\n",
    "\n",
    "# Plotting No of Leads\n",
    "plt.plot(monthly_performance['Month'], monthly_performance['No of Leads'], label='No of Leads', marker='o')\n",
    "\n",
    "# Plotting Time Spent\n",
    "plt.plot(monthly_performance['Month'], monthly_performance['Time Spent on LG (in mins)'], label='Time Spent', marker='o')\n",
    "\n",
    "# Formatting the plot\n",
    "plt.title('Employee Performance Over Months - ASSOCIATE ABC')\n",
    "plt.xlabel('Month')\n",
    "plt.ylabel('Average Performance')\n",
    "plt.legend()\n",
    "plt.grid(True)\n",
    "\n",
    "# Show the plot\n",
    "plt.show()\n"
   ]
  },
  {
   "cell_type": "markdown",
   "id": "9070e80f-e05c-4943-8d99-448b9cbfc90a",
   "metadata": {},
   "source": [
    "# ASSOCIATE XYZ"
   ]
  },
  {
   "cell_type": "code",
   "execution_count": 76,
   "id": "6cae9a95-15d0-446b-81c8-28c581691c55",
   "metadata": {},
   "outputs": [
    {
     "data": {
      "image/png": "[encoded data removed]",
      "text/plain": [
       "<Figure size 1200x800 with 1 Axes>"
      ]
     },
     "metadata": {},
     "output_type": "display_data"
    }
   ],
   "source": [
    "import pandas as pd\n",
    "import matplotlib.pyplot as plt\n",
    "\n",
    "#  DataFrame 'df1' with columns 'Date', 'No of Leads', and 'Time Spent on LG (in mins)'\n",
    "# If the 'Date' column is not in datetime format, you can convert it using pd.to_datetime\n",
    "df2['Date'] = pd.to_datetime(df1['Date'], format='%d/%m/%Y')\n",
    "\n",
    "# Extracting month names from the 'Date' column\n",
    "df2['Month'] = df2['Date'].dt.strftime('%B')\n",
    "\n",
    "# Grouping data by month and calculating average performance metrics\n",
    "monthly_performance = df2.groupby('Month').agg({\n",
    "    'No of Leads': 'mean',\n",
    "    'Time Spent on LG (in mins)': 'mean'\n",
    "}).reset_index()\n",
    "\n",
    "# Plotting line chart\n",
    "plt.figure(figsize=(12, 8))\n",
    "\n",
    "# Plotting No of Leads\n",
    "plt.plot(monthly_performance['Month'], monthly_performance['No of Leads'], label='No of Leads', marker='o')\n",
    "\n",
    "# Plotting Time Spent\n",
    "plt.plot(monthly_performance['Month'], monthly_performance['Time Spent on LG (in mins)'], label='Time Spent', marker='o')\n",
    "\n",
    "# Formatting the plot\n",
    "plt.title('Employee Performance Over Months - ASSOCIATE XYZ')\n",
    "plt.xlabel('Month')\n",
    "plt.ylabel('Average Performance')\n",
    "plt.legend()\n",
    "plt.grid(True)\n",
    "\n",
    "# Show the plot\n",
    "plt.show()"
   ]
  },
  {
   "cell_type": "markdown",
   "id": "15e5bdb2-3532-47fe-bd85-ab3a22452cd4",
   "metadata": {},
   "source": [
    "# ASSOCIATE KLM"
   ]
  },
  {
   "cell_type": "code",
   "execution_count": 77,
   "id": "a36a1175-8bac-42cb-8601-64f7b92c7d22",
   "metadata": {},
   "outputs": [
    {
     "data": {
      "image/png": "[encoded data removed]",
      "text/plain": [
       "<Figure size 1200x800 with 1 Axes>"
      ]
     },
     "metadata": {},
     "output_type": "display_data"
    }
   ],
   "source": [
    "import pandas as pd\n",
    "import matplotlib.pyplot as plt\n",
    "import string\n",
    "\n",
    "def remove_non_printable(s):\n",
    "    return ''.join(filter(lambda x: x in string.printable and x != '\\x0c', str(s)))\n",
    "\n",
    "# Remove special characters from column names\n",
    "df3.columns = [remove_non_printable(col) for col in df3.columns]\n",
    "\n",
    "# Attempt to convert 'Date' column to datetime using the specified format\n",
    "try:\n",
    "    df3['Date'] = pd.to_datetime(df3['Date'], format='%d/%m/%Y')\n",
    "except ValueError:\n",
    "    # If the above format fails, try an alternative format\n",
    "    df3['Date'] = pd.to_datetime(df3['Date'], errors='coerce')\n",
    "\n",
    "# Extracting month names from the 'Date' column\n",
    "df3['Month'] = df3['Date'].dt.strftime('%B')\n",
    "\n",
    "# Grouping data by month and calculating average performance metrics\n",
    "monthly_performance = df3.groupby('Month').agg({\n",
    "    'No of Leads': 'mean',\n",
    "    'Time Spent on LG (in mins)': 'mean'\n",
    "}).reset_index()\n",
    "\n",
    "\n",
    "# Plotting line chart\n",
    "plt.figure(figsize=(12, 8))\n",
    "\n",
    "# Plotting No of Leads\n",
    "plt.plot(monthly_performance['Month'], monthly_performance['No of Leads'], label='No of Leads', marker='o')\n",
    "\n",
    "# Plotting Time Spent\n",
    "plt.plot(monthly_performance['Month'], monthly_performance['Time Spent on LG (in mins)'], label='Time Spent', marker='o')\n",
    "\n",
    "# Formatting the plot\n",
    "plt.title('Employee Performance Over Months - ASSOCIATE KLM')\n",
    "plt.xlabel('Month')\n",
    "plt.ylabel('Average Performance')\n",
    "plt.legend()\n",
    "plt.grid(True)\n",
    "\n",
    "# Show the plot\n",
    "plt.show()\n"
   ]
  },
  {
   "cell_type": "code",
   "execution_count": 78,
   "id": "7dc88de4-f439-43c4-9386-c6460a5f8b74",
   "metadata": {},
   "outputs": [
    {
     "data": {
      "text/plain": [
       "Index(['Date', 'No of Leads', 'Time Spent on LG (in mins)', 'Month'], dtype='object')"
      ]
     },
     "execution_count": 78,
     "metadata": {},
     "output_type": "execute_result"
    }
   ],
   "source": [
    "df1.columns"
   ]
  },
  {
   "cell_type": "markdown",
   "id": "bd3c2cd6-8b36-49e4-8c53-caed16479742",
   "metadata": {},
   "source": [
    "# PREDICTIONS FOR NEXT MONTH"
   ]
  },
  {
   "cell_type": "markdown",
   "id": "d821c850-e4f2-47d3-8b64-be4c3637166c",
   "metadata": {},
   "source": [
    "# next month performance predictions for ASSOCIATE ABC"
   ]
  },
  {
   "cell_type": "code",
   "execution_count": 79,
   "id": "e96cfdb4-90ff-4ba8-a345-77d410d3aea7",
   "metadata": {},
   "outputs": [
    {
     "name": "stdout",
     "output_type": "stream",
     "text": [
      "    No of Leads  Time Spent Projection\n",
      "0             1             219.785345\n",
      "1             3             248.386195\n",
      "2             6             291.287469\n",
      "3             7             305.587894\n",
      "4             9             334.188743\n",
      "5            12             377.090018\n",
      "6            13             391.390442\n",
      "7            10             348.489168\n",
      "8             2             234.085770\n",
      "9             7             305.587894\n",
      "10            5             276.987044\n",
      "11           11             362.789593\n"
     ]
    }
   ],
   "source": [
    "from sklearn.model_selection import train_test_split\n",
    "from sklearn.linear_model import LinearRegression\n",
    "import pandas as pd\n",
    "\n",
    "# df1 is a DataFrame with cleaned and prepared data\n",
    "# Convert 'Date' to datetime format\n",
    "df1['Date'] = pd.to_datetime(df1['Date'])\n",
    "\n",
    "# Extract additional features\n",
    "df1['Month'] = df1['Date'].dt.month\n",
    "df1['Day'] = df1['Date'].dt.day\n",
    "\n",
    "# Define features (X) and target variable (y)\n",
    "X = df1[['Month', 'Day', 'No of Leads']]\n",
    "y = df1['Time Spent on LG (in mins)']\n",
    "\n",
    "# Split the data into training and testing sets\n",
    "X_train, X_test, y_train, y_test = train_test_split(X, y, test_size=1, random_state=42)\n",
    "\n",
    "# Train the linear regression model\n",
    "model = LinearRegression()\n",
    "model.fit(X_train, y_train)\n",
    "\n",
    "# Make predictions on the test set\n",
    "y_pred = model.predict(X_test)\n",
    "\n",
    "# Replace the placeholder values with your actual data\n",
    "next_month = 4  # the next month's value\n",
    "expected_leads = [1,3,6,7,9,12,13,10,2,7,5,11]  # Replace with expected values\n",
    "\n",
    "# Prepare a DataFrame with expected 'No of Leads' for each employee\n",
    "next_month_data = pd.DataFrame({\n",
    "    'Month': [next_month] * len(expected_leads),\n",
    "    'Day': [1] * len(expected_leads),  #  the first day of the next month\n",
    "    'No of Leads': expected_leads\n",
    "})\n",
    "\n",
    "# Predict 'Time Spent on LG (in mins)' for the next month\n",
    "next_month_data['Time Spent Projection'] = model.predict(next_month_data[['Month', 'Day', 'No of Leads']])\n",
    "\n",
    "# Display the projections\n",
    "print(next_month_data[['No of Leads', 'Time Spent Projection']])\n"
   ]
  },
  {
   "cell_type": "markdown",
   "id": "4bb85694-bbef-4485-b08a-6671ff8c4be2",
   "metadata": {},
   "source": [
    "# next month performance predictions for ASSOCIATE XYZ "
   ]
  },
  {
   "cell_type": "code",
   "execution_count": 80,
   "id": "6507a6a3-3f6d-427d-9c25-8c6d8f4c5f13",
   "metadata": {},
   "outputs": [
    {
     "name": "stdout",
     "output_type": "stream",
     "text": [
      "    No of Leads  Time Spent Projection\n",
      "0             1             329.438006\n",
      "1             3             353.385917\n",
      "2             6             389.307785\n",
      "3             7             401.281741\n",
      "4             9             425.229652\n",
      "5            12             461.151519\n",
      "6            13             473.125475\n",
      "7            10             437.203608\n",
      "8             2             341.411962\n",
      "9             7             401.281741\n",
      "10            5             377.333829\n",
      "11           11             449.177564\n"
     ]
    }
   ],
   "source": [
    "from sklearn.model_selection import train_test_split\n",
    "from sklearn.linear_model import LinearRegression\n",
    "import pandas as pd\n",
    "\n",
    "#  df2 is DataFrame with cleaned and prepared data\n",
    "# Converting 'Date' to datetime format\n",
    "df2['Date'] = pd.to_datetime(df2['Date'])\n",
    "\n",
    "# Extract additional features\n",
    "df2['Month'] = df2['Date'].dt.month\n",
    "df2['Day'] = df2['Date'].dt.day\n",
    "\n",
    "# Define features (X) and target variable (y)\n",
    "X = df2[['Month', 'Day', 'No of Leads']]\n",
    "y = df2['Time Spent on LG (in mins)']\n",
    "\n",
    "# Split the data into training and testing sets\n",
    "X_train, X_test, y_train, y_test = train_test_split(X, y, test_size=1, random_state=42)\n",
    "\n",
    "# Removing rows with missing values from both X_train and y_train\n",
    "X_train = X_train.dropna()\n",
    "y_train = y_train[X_train.index]\n",
    "\n",
    "# Training the linear regression model\n",
    "model = LinearRegression()\n",
    "model.fit(X_train, y_train)\n",
    "\n",
    "# Make predictions on the test set\n",
    "y_pred = model.predict(X_test)\n",
    "\n",
    "next_month = 4  #  the next month's value (APRIL)\n",
    "expected_leads = [1,3,6,7,9,12,13,10,2,7,5,11]  #  expected values for Associate XYZ\n",
    "\n",
    "# Preparing a DataFrame with expected 'No of Leads' for employee\n",
    "next_month_data = pd.DataFrame({\n",
    "    'Month': [next_month] * len(expected_leads),\n",
    "    'Day': [1] * len(expected_leads),  #  the first day of the next month\n",
    "    'No of Leads': expected_leads\n",
    "})\n",
    "\n",
    "# Predict 'Time Spent on LG (in mins)' for the next month\n",
    "next_month_data['Time Spent Projection'] = model.predict(next_month_data[['Month', 'Day', 'No of Leads']])\n",
    "\n",
    "# Display the projections\n",
    "print(next_month_data[['No of Leads', 'Time Spent Projection']])"
   ]
  },
  {
   "cell_type": "markdown",
   "id": "8cd61d1a-885e-4c1a-9552-51af76f3fae6",
   "metadata": {},
   "source": [
    "# next month performance predictions for ASSOCIATE KLM"
   ]
  },
  {
   "cell_type": "code",
   "execution_count": 81,
   "id": "a242e8a0-882a-4d3f-ad78-567fb5801efc",
   "metadata": {},
   "outputs": [
    {
     "name": "stdout",
     "output_type": "stream",
     "text": [
      "    No of Leads  Time Spent Projection\n",
      "0             1             289.079550\n",
      "1             3             319.632784\n",
      "2             6             365.462636\n",
      "3             7             380.739253\n",
      "4             9             411.292487\n",
      "5            12             457.122338\n",
      "6            13             472.398955\n",
      "7            10             426.569104\n",
      "8             2             304.356167\n",
      "9             7             380.739253\n",
      "10            5             350.186018\n",
      "11           11             441.845721\n"
     ]
    }
   ],
   "source": [
    "from sklearn.model_selection import train_test_split\n",
    "from sklearn.linear_model import LinearRegression\n",
    "import pandas as pd\n",
    "\n",
    "# Assuming df is your DataFrame with cleaned and prepared data\n",
    "# Convert 'Date' to datetime format\n",
    "df3['Date'] = pd.to_datetime(df3['Date'])\n",
    "\n",
    "# Extract additional features\n",
    "df3['Month'] = df3['Date'].dt.month\n",
    "df3['Day'] = df3['Date'].dt.day\n",
    "\n",
    "# Define features (X) and target variable (y)\n",
    "X = df3[['Month', 'Day', 'No of Leads']]\n",
    "y = df3['Time Spent on LG (in mins)']\n",
    "\n",
    "# Split the data into training and testing sets\n",
    "X_train, X_test, y_train, y_test = train_test_split(X, y, test_size=1, random_state=42)\n",
    "\n",
    "# Remove rows with missing values from both X_train and y_train\n",
    "X_train = X_train.dropna()\n",
    "y_train = y_train[X_train.index]\n",
    "\n",
    "# Train the linear regression model\n",
    "model = LinearRegression()\n",
    "model.fit(X_train, y_train)\n",
    "\n",
    "# Make predictions on the test set\n",
    "y_pred = model.predict(X_test)\n",
    "\n",
    "# Replace the placeholder values with your actual data\n",
    "next_month = 6  # Replace with the next month's value\n",
    "expected_leads = [1,3,6,7,9,12,13,10,2,7,5,11]  # Replace with expected values\n",
    "\n",
    "# Prepare a DataFrame with expected 'No of Leads' for each employee\n",
    "next_month_data = pd.DataFrame({\n",
    "    'Month': [next_month] * len(expected_leads),\n",
    "    'Day': [1] * len(expected_leads),  # Assuming the first day of the next month\n",
    "    'No of Leads': expected_leads\n",
    "})\n",
    "\n",
    "# Predict 'Time Spent on LG (in mins)' for the next month\n",
    "next_month_data['Time Spent Projection'] = model.predict(next_month_data[['Month', 'Day', 'No of Leads']])\n",
    "\n",
    "# Display the projections\n",
    "print(next_month_data[['No of Leads', 'Time Spent Projection']])"
   ]
  },
  {
   "cell_type": "code",
   "execution_count": null,
   "id": "630af87f-1a77-4cd8-865d-959a4b25d9a9",
   "metadata": {},
   "outputs": [],
   "source": []
  }
 ],
 "metadata": {
  "kernelspec": {
   "display_name": "Python 3 (ipykernel)",
   "language": "python",
   "name": "python3"
  },
  "language_info": {
   "codemirror_mode": {
    "name": "ipython",
    "version": 3
   },
   "file_extension": ".py",
   "mimetype": "text/x-python",
   "name": "python",
   "nbconvert_exporter": "python",
   "pygments_lexer": "ipython3",
   "version": "3.11.4"
  }
 },
 "nbformat": 4,
 "nbformat_minor": 5
}
